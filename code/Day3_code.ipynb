{
 "cells": [
  {
   "cell_type": "code",
   "execution_count": 6,
   "metadata": {},
   "outputs": [],
   "source": [
    "import numpy as np"
   ]
  },
  {
   "cell_type": "code",
   "execution_count": 13,
   "metadata": {},
   "outputs": [
    {
     "data": {
      "text/plain": [
       "array([519, 498, 501, 504, 506, 528, 517, 509, 508, 514, 490, 521])"
      ]
     },
     "execution_count": 13,
     "metadata": {},
     "output_type": "execute_result"
    }
   ],
   "source": [
    "with open('day3_input.txt') as f:\n",
    "    lines = f.read().splitlines()\n",
    "\n",
    "report = np.array([0]*len(lines[0]))\n",
    "for l in lines:\n",
    "    report += np.array([int(x) for x in l])\n",
    "report"
   ]
  },
  {
   "cell_type": "code",
   "execution_count": 20,
   "metadata": {},
   "outputs": [
    {
     "name": "stdout",
     "output_type": "stream",
     "text": [
      "101111111101\n",
      "010000000010\n"
     ]
    }
   ],
   "source": [
    "gamma = ''\n",
    "epsilon = ''\n",
    "\n",
    "for r in report:\n",
    "    if r > (len(lines)/2):\n",
    "        gamma += '1'\n",
    "        epsilon += '0'\n",
    "    else:\n",
    "        gamma += '0'\n",
    "        epsilon += '1'\n",
    "print(gamma)\n",
    "print(epsilon)"
   ]
  },
  {
   "cell_type": "code",
   "execution_count": 22,
   "metadata": {},
   "outputs": [
    {
     "name": "stdout",
     "output_type": "stream",
     "text": [
      "3148794\n"
     ]
    }
   ],
   "source": [
    "gamma_rate = int(gamma, 2)\n",
    "epsilon_rate = int(epsilon, 2)\n",
    "print(gamma_rate * epsilon_rate)"
   ]
  },
  {
   "cell_type": "code",
   "execution_count": 26,
   "metadata": {},
   "outputs": [
    {
     "name": "stdout",
     "output_type": "stream",
     "text": [
      "['100100101101']\n"
     ]
    }
   ],
   "source": [
    "oxy_gen_rating = lines.copy()\n",
    "pos = 0\n",
    "while(len(oxy_gen_rating) > 1):\n",
    "    pos_sum = 0\n",
    "    for l in oxy_gen_rating:\n",
    "        pos_sum += int(l[pos])\n",
    "    if(pos_sum >= len(oxy_gen_rating)/2):\n",
    "        val = '1'\n",
    "    else:\n",
    "        val = '0'\n",
    "    oxy_gen_rating = [x for x in oxy_gen_rating if x[pos] == val]\n",
    "    pos += 1\n",
    "print(oxy_gen_rating)"
   ]
  },
  {
   "cell_type": "code",
   "execution_count": 27,
   "metadata": {},
   "outputs": [
    {
     "name": "stdout",
     "output_type": "stream",
     "text": [
      "['010010100110']\n"
     ]
    }
   ],
   "source": [
    "co2_scrubber_rating = lines.copy()\n",
    "pos = 0\n",
    "while(len(co2_scrubber_rating) > 1):\n",
    "    pos_sum = 0\n",
    "    for l in co2_scrubber_rating:\n",
    "        pos_sum += int(l[pos])\n",
    "    if(pos_sum >= len(co2_scrubber_rating)/2):\n",
    "        val = '0'\n",
    "    else:\n",
    "        val = '1'\n",
    "    co2_scrubber_rating = [x for x in co2_scrubber_rating if x[pos] == val]\n",
    "    pos += 1\n",
    "print(co2_scrubber_rating)"
   ]
  },
  {
   "cell_type": "code",
   "execution_count": null,
   "metadata": {},
   "outputs": [],
   "source": [
    "gamma_rate = int(gamma, 2)\n",
    "epsilon_rate = int(epsilon, 2)\n",
    "print(gamma_rate * epsilon_rate)"
   ]
  }
 ],
 "metadata": {
  "kernelspec": {
   "display_name": "Python 3",
   "language": "python",
   "name": "python3"
  },
  "language_info": {
   "codemirror_mode": {
    "name": "ipython",
    "version": 3
   },
   "file_extension": ".py",
   "mimetype": "text/x-python",
   "name": "python",
   "nbconvert_exporter": "python",
   "pygments_lexer": "ipython3",
   "version": "3.8.5"
  }
 },
 "nbformat": 4,
 "nbformat_minor": 4
}
