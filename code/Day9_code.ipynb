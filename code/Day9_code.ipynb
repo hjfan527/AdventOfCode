{
 "cells": [
  {
   "cell_type": "code",
   "execution_count": 30,
   "metadata": {},
   "outputs": [
    {
     "name": "stdout",
     "output_type": "stream",
     "text": [
      "[[10 10 10 ... 10 10 10]\n",
      " [10  9  8 ...  6  7 10]\n",
      " [10  5  9 ...  5  6 10]\n",
      " ...\n",
      " [10  5  3 ...  9  5 10]\n",
      " [10  6  2 ...  3  4 10]\n",
      " [10 10 10 ... 10 10 10]]\n"
     ]
    }
   ],
   "source": [
    "import numpy as np\n",
    "with open('day9_input.txt', 'r') as f:\n",
    "    lines = f.read().splitlines()\n",
    "    l = [[10] + [int(num) for num in l] +[10] for l in lines]\n",
    "l = np.array([[10]*len(l[0])] + l + [[10]*len(l[0])])\n",
    "print(l)"
   ]
  },
  {
   "cell_type": "code",
   "execution_count": 37,
   "metadata": {},
   "outputs": [
    {
     "name": "stdout",
     "output_type": "stream",
     "text": [
      "[1, 5, 1, 4, 6, 5, 5, 2, 1, 1, 1, 3, 3, 2, 2, 7, 3, 1, 1, 5, 6, 1, 2, 3, 4, 2, 2, 1, 6, 1, 5, 1, 1, 1, 2, 1, 1, 4, 1, 1, 4, 2, 4, 1, 1, 2, 1, 2, 1, 1, 1, 1, 2, 3, 6, 3, 1, 4, 1, 1, 4, 2, 1, 3, 1, 4, 4, 1, 4, 1, 1, 1, 1, 1, 6, 1, 1, 1, 1, 1, 1, 3, 2, 4, 1, 1, 3, 2, 4, 2, 1, 1, 1, 1, 1, 3, 1, 3, 1, 1, 2, 1, 3, 2, 3, 3, 2, 1, 2, 3, 2, 3, 2, 1, 5, 2, 1, 5, 2, 1, 2, 4, 2, 4, 4, 1, 1, 1, 2, 1, 5, 1, 6, 3, 1, 5, 4, 1, 1, 2, 1, 2, 1, 2, 3, 1, 2, 2, 4, 1, 2, 1, 1, 2, 1, 1, 4, 2, 1, 1, 2, 1, 1, 3, 1, 3, 1, 1, 2, 2, 1, 2, 2, 1, 4, 1, 6, 2, 6, 5, 2, 5, 3, 1, 1, 1, 1, 2, 4, 1, 5, 1, 1, 1, 1, 2, 1, 2, 2, 2, 2, 1, 3, 6, 2, 5, 3, 1, 4, 1, 2, 2, 5, 1, 1, 1, 4]\n",
      "486\n"
     ]
    }
   ],
   "source": [
    "risk_lvls = []\n",
    "for i in range(1, len(l)-1):\n",
    "    for j in range(1, len(l[0])-1):\n",
    "        if((l[i,j] < l[i-1,j]) and (l[i,j] < l[i+1,j]) and (l[i,j] < (l[i, j-1]) and l[i,j] < l[i,j+1])):\n",
    "            risk_lvls.append(l[i,j] + 1)\n",
    "print(risk_lvls)\n",
    "print(sum(risk_lvls))"
   ]
  },
  {
   "cell_type": "code",
   "execution_count": 35,
   "metadata": {},
   "outputs": [
    {
     "data": {
      "text/plain": [
       "102"
      ]
     },
     "execution_count": 35,
     "metadata": {},
     "output_type": "execute_result"
    }
   ],
   "source": []
  },
  {
   "cell_type": "code",
   "execution_count": null,
   "metadata": {},
   "outputs": [],
   "source": []
  }
 ],
 "metadata": {
  "kernelspec": {
   "display_name": "Python 3",
   "language": "python",
   "name": "python3"
  },
  "language_info": {
   "codemirror_mode": {
    "name": "ipython",
    "version": 3
   },
   "file_extension": ".py",
   "mimetype": "text/x-python",
   "name": "python",
   "nbconvert_exporter": "python",
   "pygments_lexer": "ipython3",
   "version": "3.8.5"
  }
 },
 "nbformat": 4,
 "nbformat_minor": 4
}
