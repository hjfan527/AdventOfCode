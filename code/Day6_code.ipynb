{
 "cells": [
  {
   "cell_type": "code",
   "execution_count": 27,
   "metadata": {},
   "outputs": [
    {
     "name": "stdout",
     "output_type": "stream",
     "text": [
      "360268\n"
     ]
    }
   ],
   "source": [
    "import numpy as np\n",
    "with open('day6_input.txt') as f:\n",
    "    lanternfish = np.array([int(x) for x in f.readline().split(',')])\n",
    "\n",
    "for i in range(80):\n",
    "    lanternfish -= 1\n",
    "    lanternfish = np.append(lanternfish, np.array([8] * np.count_nonzero(lanternfish == -1)))\n",
    "    lanternfish[lanternfish == -1] = 6\n",
    "print(len(lanternfish))"
   ]
  },
  {
   "cell_type": "code",
   "execution_count": 40,
   "metadata": {},
   "outputs": [
    {
     "name": "stdout",
     "output_type": "stream",
     "text": [
      "1632146183902\n"
     ]
    }
   ],
   "source": [
    "with open('day6_input.txt') as f:\n",
    "    lanternfish = [int(x) for x in f.readline().split(',')]\n",
    "\n",
    "lanternfish_set = [0] * 9\n",
    "for i in lanternfish:\n",
    "    lanternfish_set[i] += 1\n",
    "for i in range(256):\n",
    "    lanternfish_set = lanternfish_set[1:] + [lanternfish_set[0]]\n",
    "    lanternfish_set[6] += lanternfish_set[8]\n",
    "print(sum(lanternfish_set))"
   ]
  },
  {
   "cell_type": "code",
   "execution_count": null,
   "metadata": {},
   "outputs": [],
   "source": []
  },
  {
   "cell_type": "code",
   "execution_count": null,
   "metadata": {},
   "outputs": [],
   "source": []
  }
 ],
 "metadata": {
  "kernelspec": {
   "display_name": "Python 3",
   "language": "python",
   "name": "python3"
  },
  "language_info": {
   "codemirror_mode": {
    "name": "ipython",
    "version": 3
   },
   "file_extension": ".py",
   "mimetype": "text/x-python",
   "name": "python",
   "nbconvert_exporter": "python",
   "pygments_lexer": "ipython3",
   "version": "3.8.5"
  }
 },
 "nbformat": 4,
 "nbformat_minor": 4
}
